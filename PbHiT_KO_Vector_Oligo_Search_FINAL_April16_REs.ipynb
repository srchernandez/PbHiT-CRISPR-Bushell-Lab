{
 "cells": [
  {
   "cell_type": "code",
   "execution_count": 9,
   "id": "25ac3dd9-77be-420d-b145-7cb0b83627a2",
   "metadata": {},
   "outputs": [],
   "source": [
    "#Load Libraries/modules\n",
    "from Bio import SeqUtils\n",
    "from Bio import SeqIO\n",
    "import pandas as pd\n",
    "import matplotlib.pyplot as plt\n",
    "from Bio.Seq import Seq\n",
    "from Bio.SeqRecord import SeqRecord\n",
    "import numpy as np\n",
    "from random import randint\n",
    "%matplotlib inline"
   ]
  },
  {
   "cell_type": "code",
   "execution_count": 10,
   "id": "0180fc1c",
   "metadata": {},
   "outputs": [],
   "source": [
    "#Set standard elements of the gRNA oligo into items\n",
    "BbsI = 'GAAGACggTATT'\n",
    "Scaffold = 'GTTTTAGAGCTAGAAATAGCAAGTTAAAATAAGGCTAGTCCGTTATCAACTTGAAAAAGTGGCACCGAGTCGGTGC'\n",
    "AvrII = 'CCTAGG'\n",
    "PstI = 'CTGCAG'"
   ]
  },
  {
   "cell_type": "code",
   "execution_count": 11,
   "id": "0d844e72",
   "metadata": {},
   "outputs": [],
   "source": [
    "#Load GFF file and extract positive and negative strand information\n",
    "PBANKA_GFF_FILE = pd.read_csv(\"/Users/srchernandez/Desktop/CRISPR_PbHIT_KO_Vector/PbHIT_KO_Vector_Final/GENE_ONLY_PlasmoDB-57_PbergheiANKA.gff\", delimiter = \"\\t\", comment = \"#\", header=None)\n",
    "PBANKA_GFF_FILE.columns = [\"seqid\", \"source\", \"type\", \"start\", \"end\", \"score\", \"strand\", \"phase\", \"attributes\"]\n",
    "PBANKA_GFF_FILE[['GENE ID', 'B','C']] = PBANKA_GFF_FILE.attributes.str.split(\";\", expand = True)\n",
    "PBANKA_GFF_FILE['GENE ID']=PBANKA_GFF_FILE['GENE ID'].replace('ID=PBANKA','PBANKA',regex=True)\n",
    "\n",
    "#PBANKA_GFF_FILE.head(10)"
   ]
  },
  {
   "cell_type": "code",
   "execution_count": 12,
   "id": "e4224513",
   "metadata": {},
   "outputs": [],
   "source": [
    "#Read gRNA excel files as table\n",
    "\n",
    "#this file has top 3 gRNAs for each gene, read only until column C 'Total_score'\n",
    "gRNA_EuPaGDT_top = pd.read_excel(\"/Users/srchernandez/Desktop/CRISPR_PbHIT_KO_Vector/PbHIT_KO_Vector_Final/selected_gRNA.PbHIT_KO_Test.xlsx\",index_col=None, na_values=['NA'], usecols=\"A:C\")\n",
    "gRNA_EuPaGDT_top[['GENE ID', 'gRNA ID','directionality']] = gRNA_EuPaGDT_top.gRNA_id.str.split(\"_\", expand = True)\n",
    "#gRNA_EuPaGDT_top.rename(columns={'gRNA_id':'GENE ID'}, inplace = True)\n",
    "gRNA_EuPaGDT_top['GENE ID']=gRNA_EuPaGDT_top['GENE ID'].replace('PBANKA','PBANKA_', regex= True)\n",
    "\n",
    "#gRNA_EuPaGDT_top.head(5)\n",
    "\n",
    "#this file has all gRNAs for each gene, read only until column C 'Total_score'\n",
    "#gRNA_EuPaGDT_all = pd.read_excel(\"/Users/srchernandez/Desktop/CRISPR_PbHIT_KO_Vector/PbHIT_KO_Vector_Final/all_gRNA.PbHIT_KO_Test.xlsx\",index_col=None, na_values=['NA'], usecols=\"A:C\")\n",
    "#gRNA_EuPaGDT_all[['GENE ID', 'gRNA ID','directionality']] = gRNA_EuPaGDT_all.gRNA_id.str.split(\"_\", expand = True)\n",
    "#gRNA_EuPaGDT_all.rename(columns={'gRNA_id':'GENE ID'}, inplace = True)\n",
    "#gRNA_EuPaGDT_all['GENE ID']=gRNA_EuPaGDT_all['GENE ID'].replace('PBANKA','PBANKA_', regex= True)\n",
    "\n",
    "#gRNA_EuPaGDT_all.head(5)"
   ]
  },
  {
   "cell_type": "code",
   "execution_count": 13,
   "id": "f275f056",
   "metadata": {},
   "outputs": [],
   "source": [
    "#Combine gRNA strand information and gRNA file\n",
    "gRNA_EuPaGDT_top = pd.merge(gRNA_EuPaGDT_top,PBANKA_GFF_FILE,on='GENE ID')\n",
    "#gRNA_EuPaGDT_top.head()"
   ]
  },
  {
   "cell_type": "code",
   "execution_count": 14,
   "id": "9627a910",
   "metadata": {},
   "outputs": [],
   "source": [
    "pHIT_KO_HR = pd.read_excel(\"/Users/srchernandez/Desktop/PbHiT_KO_Vector_HR_List_April16_RE.xlsx\")"
   ]
  },
  {
   "cell_type": "code",
   "execution_count": 123,
   "id": "4f9f6e62",
   "metadata": {},
   "outputs": [],
   "source": [
    "#Load Gene List\n",
    "genes = pd.read_excel(\"/Users/srchernandez/Desktop/CRISPR_PbHIT_KO_Vector/PbHIT_KO_Vector_Final/PbHIT_KO_Vector_Pool_100.xlsx\",na_values=['NA'])\n",
    "gene_list=genes['Target Genes'].tolist()"
   ]
  },
  {
   "cell_type": "code",
   "execution_count": 15,
   "id": "a4a85ea0",
   "metadata": {},
   "outputs": [
    {
     "name": "stdout",
     "output_type": "stream",
     "text": [
      "+\n",
      "-\n",
      "+\n",
      "-\n",
      "-\n",
      "+\n",
      "+\n",
      "-\n",
      "+\n",
      "+\n",
      "-\n"
     ]
    }
   ],
   "source": [
    "#Convert to batch search\n",
    "gene_list=['PBANKA_1237100','PBANKA_1040100','PBANKA_0310300','PBANKA_0622100','PBANKA_0709700','PBANKA_0823400','PBANKA_0826800','PBANKA_0826900','PBANKA_0827100','PBANKA_0829700','PBANKA_0831200']\n",
    "rows=len(gene_list)\n",
    "dftest=pd.DataFrame()\n",
    "\n",
    "for x in gene_list:\n",
    "    input_gene=x\n",
    "    gene_gRNA=gRNA_EuPaGDT_top[gRNA_EuPaGDT_top['GENE ID']==input_gene]\n",
    "    if not gene_gRNA.empty:\n",
    "        Result1 = BbsI + gene_gRNA['gRNA_sequence']\n",
    "        #print(Result1)\n",
    "    else:\n",
    "        print('No gRNA')\n",
    "    \n",
    "    #Store Results in a data frame \n",
    "    pHIT_KO_BbsI_gRNA = pd.DataFrame({\n",
    "        \"GENE ID\": input_gene,\n",
    "        \"Sequence\": Result1\n",
    "    })\n",
    "    \n",
    "    pHIT_KO_BbsI_gRNA_top2=pHIT_KO_BbsI_gRNA.iloc[:2]\n",
    "    \n",
    "    gene_HR=pHIT_KO_HR[pHIT_KO_HR['GENE ID']==input_gene]\n",
    "    strand=gene_HR['strand_x'].to_list()[0]\n",
    "    print(strand)\n",
    "    if strand=='+':\n",
    "        if not gene_HR.empty:\n",
    "            Result2= Scaffold + gene_HR['HR2 Sequence Fw'] + AvrII + gene_HR['HR1 Sequence Fw']+ PstI\n",
    "            #print(Result2)\n",
    "        else: \n",
    "            print('Gene Cannot be Found')\n",
    "\n",
    "    if strand=='-':\n",
    "        if not gene_HR.empty:\n",
    "            Result2= Scaffold + gene_HR['HR1 Sequence Rev'] + AvrII + gene_HR['HR2 Sequence Rev']+ PstI\n",
    "            #print(Result2)\n",
    "        else: \n",
    "            print('Gene Cannot be Found')\n",
    "\n",
    "        #Convert Result2 into a list\n",
    "    pHIT_KO_HR_seq=Result2.values.tolist()\n",
    "\n",
    "        #Generate final oligo\n",
    "    PbHOT_KO_Vector_List=pd.DataFrame(columns=['GENE ID', 'Oligo Sequence'])\n",
    "    PbHOT_KO_Vector_List['GENE ID']=pHIT_KO_BbsI_gRNA_top2['GENE ID']\n",
    "    PbHOT_KO_Vector_List['Oligo Sequence']=pHIT_KO_BbsI_gRNA_top2['Sequence']+pHIT_KO_HR_seq\n",
    "    \n",
    "    new_row=PbHOT_KO_Vector_List\n",
    "    dftest=pd.concat([dftest,new_row])\n",
    "    #df=df.append(new_row,ignore_index=True)\n",
    "    \n",
    "#pHIT_KO_BbsI_gRNA.head(10)\n",
    "\n",
    "#dftest.head(10)\n",
    "    "
   ]
  },
  {
   "cell_type": "code",
   "execution_count": 59,
   "id": "f557b225",
   "metadata": {},
   "outputs": [],
   "source": [
    "dftest.to_excel(\"/Users/srchernandez/Desktop/PbHiT_KO_Vector_April16_kinases.xlsx\", index=None)"
   ]
  },
  {
   "cell_type": "code",
   "execution_count": 23,
   "id": "2db2ed6f",
   "metadata": {},
   "outputs": [],
   "source": [
    "#dftest.to_csv(\"/Users/srchernandez/Desktop/PbHiT_KO_Vector_List_test.csv\", index=None)"
   ]
  },
  {
   "cell_type": "code",
   "execution_count": null,
   "id": "65928c60",
   "metadata": {},
   "outputs": [],
   "source": []
  }
 ],
 "metadata": {
  "kernelspec": {
   "display_name": "Python 3 (ipykernel)",
   "language": "python",
   "name": "python3"
  },
  "language_info": {
   "codemirror_mode": {
    "name": "ipython",
    "version": 3
   },
   "file_extension": ".py",
   "mimetype": "text/x-python",
   "name": "python",
   "nbconvert_exporter": "python",
   "pygments_lexer": "ipython3",
   "version": "3.9.12"
  }
 },
 "nbformat": 4,
 "nbformat_minor": 5
}
